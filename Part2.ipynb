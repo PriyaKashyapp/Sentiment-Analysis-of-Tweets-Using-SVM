{
 "cells": [
  {
   "cell_type": "markdown",
   "id": "00a43617-2be2-414d-8c91-b5df54057d0f",
   "metadata": {},
   "source": [
    " # Cross-Validation Results"
   ]
  },
  {
   "cell_type": "code",
   "execution_count": 364,
   "id": "105bc2b8-5f90-46bd-9529-45808261f2d2",
   "metadata": {},
   "outputs": [
    {
     "name": "stdout",
     "output_type": "stream",
     "text": [
      "Requirement already satisfied: nltk in /opt/conda/lib/python3.10/site-packages (3.8.1)\n",
      "Requirement already satisfied: click in /opt/conda/lib/python3.10/site-packages (from nltk) (8.1.7)\n",
      "Requirement already satisfied: joblib in /opt/conda/lib/python3.10/site-packages (from nltk) (1.3.2)\n",
      "Requirement already satisfied: regex>=2021.8.3 in /opt/conda/lib/python3.10/site-packages (from nltk) (2023.10.3)\n",
      "Requirement already satisfied: tqdm in /opt/conda/lib/python3.10/site-packages (from nltk) (4.66.1)\n"
     ]
    }
   ],
   "source": [
    "import csv # csv reader\n",
    "from sklearn.svm import LinearSVC\n",
    "!pip install nltk\n",
    "import nltk\n",
    "from nltk.classify import SklearnClassifier\n",
    "from sklearn.pipeline import Pipeline\n",
    "from sklearn.metrics import precision_recall_fscore_support # to report on precision and recall\n",
    "import numpy as np\n",
    "#import pandas as pd\n",
    "import regex as re"
   ]
  },
  {
   "cell_type": "code",
   "execution_count": 365,
   "id": "91339cf8-b0e5-49c5-9001-2df8471056bc",
   "metadata": {},
   "outputs": [],
   "source": [
    "def load_data(path):\n",
    "    #Load data from a tab-separated file and append it to raw_data.\n",
    "    with open(path) as f:\n",
    "        reader = csv.reader(f, delimiter='\\t')\n",
    "        for line in reader:\n",
    "            if line[0] == \"Id\":  # skip header\n",
    "                continue\n",
    "            (label, text) = parse_data_line(line)\n",
    "            raw_data.append((text, label))\n",
    "\n",
    "def split_and_preprocess_data(percentage):\n",
    "    #Split the data between train_data and test_data according to the percentageand performs the preprocessing.\n",
    "    num_samples = len(raw_data)\n",
    "    num_training_samples = int((percentage * num_samples))\n",
    "    for (text, label) in raw_data[:num_training_samples]:\n",
    "        token = pre_process(text)\n",
    "        train_data.append((to_feature_vector(token),label))\n",
    "        train_word_count.append(len(token))\n",
    "    for (text, label) in raw_data[num_training_samples:]:\n",
    "        test_data.append((to_feature_vector(token),label))\n",
    "        test_word_count.append(len(token))"
   ]
  },
  {
   "cell_type": "code",
   "execution_count": 366,
   "id": "5784d07b-07a3-44ce-9a3f-8e10b93a6843",
   "metadata": {},
   "outputs": [],
   "source": [
    "def parse_data_line(data_line):\n",
    "    label = data_line[1]\n",
    "    text = data_line[2]\n",
    "    return (label, text)"
   ]
  },
  {
   "cell_type": "code",
   "execution_count": 370,
   "id": "612aecf2-70d0-4c47-a550-5ed120a07df4",
   "metadata": {},
   "outputs": [
    {
     "name": "stderr",
     "output_type": "stream",
     "text": [
      "[nltk_data] Downloading package stopwords to /home/jovyan/nltk_data...\n",
      "[nltk_data]   Package stopwords is already up-to-date!\n",
      "[nltk_data] Downloading package wordnet to /home/jovyan/nltk_data...\n",
      "[nltk_data]   Package wordnet is already up-to-date!\n"
     ]
    },
    {
     "data": {
      "text/plain": [
       "['london', 'beautiful', 'city,', 'visit', 'once.']"
      ]
     },
     "execution_count": 370,
     "metadata": {},
     "output_type": "execute_result"
    }
   ],
   "source": [
    "import nltk\n",
    "import string\n",
    "nltk.download('stopwords')\n",
    "nltk.download('wordnet')\n",
    "\n",
    "from nltk.corpus import stopwords\n",
    "from nltk.stem import WordNetLemmatizer\n",
    "\n",
    "# Input: a string of one statement\n",
    "def pre_process(text):\n",
    "    # Should return a list of tokens\n",
    "    # DESCRIBE YOUR METHOD IN WORDS\n",
    "    # sentence segmentation - assume already done\n",
    "    # word tokenisation\n",
    "    \n",
    "    #Hyperlink removal\n",
    "    text = re.sub(r\"htt.\\S+\", '' ,text)\n",
    "    tokens = re.split(r\"\\s+\",text)\n",
    "    # normalisation - only by lower casing for now\n",
    "    tokens = [t.lower() for t in tokens]\n",
    "\n",
    "    #Stop words removal \n",
    "    stop_words = set(stopwords.words('english'))\n",
    "    tokens = [token.lower() for token in tokens if token.lower() not in stop_words]\n",
    "\n",
    "    # Remove punctuation\n",
    "    tokens = [token for token in tokens if token not in string.punctuation]\n",
    "\n",
    "    #Lemmatization \n",
    "    lemmatizer = WordNetLemmatizer()\n",
    "    tokens = [lemmatizer.lemmatize(token) for token in tokens]\n",
    "\n",
    "    return tokens\n",
    "\n",
    "# test after pre-processing and print the result\n",
    "pre_process(\"London is the beautiful city, you should visit once.\")"
   ]
  },
  {
   "cell_type": "code",
   "execution_count": 371,
   "id": "7382ebc6-ae96-4e80-acda-0ab369d0291d",
   "metadata": {},
   "outputs": [
    {
     "name": "stdout",
     "output_type": "stream",
     "text": [
      "Requirement already satisfied: scikit-learn in /opt/conda/lib/python3.10/site-packages (1.3.2)\n",
      "Requirement already satisfied: numpy<2.0,>=1.17.3 in /opt/conda/lib/python3.10/site-packages (from scikit-learn) (1.26.1)\n",
      "Requirement already satisfied: scipy>=1.5.0 in /opt/conda/lib/python3.10/site-packages (from scikit-learn) (1.11.3)\n",
      "Requirement already satisfied: joblib>=1.1.1 in /opt/conda/lib/python3.10/site-packages (from scikit-learn) (1.3.2)\n",
      "Requirement already satisfied: threadpoolctl>=2.0.0 in /opt/conda/lib/python3.10/site-packages (from scikit-learn) (3.2.0)\n"
     ]
    }
   ],
   "source": [
    "!pip install scikit-learn\n",
    "from sklearn.feature_extraction.text import CountVectorizer"
   ]
  },
  {
   "cell_type": "code",
   "execution_count": 372,
   "id": "9346dc88-b783-48ee-8004-b3ab1e0af43e",
   "metadata": {},
   "outputs": [
    {
     "name": "stdout",
     "output_type": "stream",
     "text": [
      "{'2nd': 1, '2nd round': 1, 'backed': 1, 'backed talk': 1, 'conor': 1, 'conor mcgregor': 1, 'gold': 1, 'gold 2nd': 1, 'interim': 1, 'interim gold': 1, 'mcgregor': 1, 'mcgregor backed': 1, 'round': 1, 'round tko': 1, 'talk': 1, 'talk interim': 1, 'tko': 1}\n"
     ]
    }
   ],
   "source": [
    "from collections import Counter\n",
    "from nltk.util import ngrams\n",
    "from sklearn.feature_extraction.text import CountVectorizer\n",
    "\n",
    "global_feature_dict = Counter()\n",
    "\n",
    "def to_feature_vector(tokens):\n",
    "    \n",
    "    '''\n",
    "    Define your method here - TBD\n",
    "    '''\n",
    "    # Create bigrams\n",
    "    bigrams = list(ngrams(tokens, 2))\n",
    "\n",
    "    # Combine tokens and bigrams for feature extraction\n",
    "    features = tokens + [' '.join(bigram) for bigram in bigrams]\n",
    "\n",
    "    # Initialize a CountVectorizer to count word frequencies\n",
    "    vectorizer = CountVectorizer(ngram_range=(1, 2))\n",
    "\n",
    "    # Fit and transform the tokens to get the bag-of-words representation\n",
    "    feature_vector_sparse = vectorizer.fit_transform(features)\n",
    "\n",
    "    # Convert the sparse matrix to a dense array\n",
    "    feature_vector_dense = feature_vector_sparse.toarray()\n",
    "\n",
    "    # Extract the feature names (words in the vocabulary)\n",
    "    feature_names = vectorizer.get_feature_names_out()\n",
    "\n",
    "    # Create a Counter with the feature names as keys and their frequency values\n",
    "    feature_vector = Counter({feature_names[i]: feature_vector_dense[0][i] for i in range(len(feature_names))})\n",
    "\n",
    "    # Update the global feature dictionary\n",
    "    global_feature_dict.update(feature_vector)\n",
    "    # Using binary feature value ie will give weight as 1 for the token present\n",
    "    feature_vector = {feature: 1 for feature in feature_names}\n",
    "    return feature_vector\n",
    "\n",
    "# Test and print the result\n",
    "token = pre_process(\"Conor McGregor backed up the talk and won interim gold with 2nd Round TKO. http://t.co/XAadtJ8IUV http://t.co/wP5juh3vQB\")\n",
    "result = to_feature_vector(token)\n",
    "print(result)"
   ]
  },
  {
   "cell_type": "code",
   "execution_count": 373,
   "id": "f983b40c-6689-4890-bc8e-a4e2fbb21da9",
   "metadata": {},
   "outputs": [],
   "source": [
    "# TRAINING AND VALIDATING OUR CLASSIFIER\n",
    "\n",
    "def train_classifier(data):\n",
    "    print(\"Training Classifier...\")\n",
    "\n",
    "    # Testing what happen when playign with C (cost parameter)\n",
    "    pipeline =  Pipeline([('svc', LinearSVC())])\n",
    "    \n",
    "    # Testing what happen when adding class weight\n",
    "    # class_weight_value={1: 1.0, 0: 10.0}\n",
    "    # pipeline =  Pipeline([('svc', LinearSVC(dual='auto', C=1.0, class_weight=class_weight_value))])\n",
    "\n",
    "    #Testing what happen when increasing the value of the class weight\n",
    "    # class_weight_value={1: 1.0, 0: 100.0} \n",
    "    # pipeline =  Pipeline([('svc', LinearSVC(dual='auto', C=1.0, class_weight=class_weight_value, max_iter= 100000))])\n",
    "    return SklearnClassifier(pipeline).train(data)"
   ]
  },
  {
   "cell_type": "code",
   "execution_count": 374,
   "id": "ceb9f698-bb7f-445c-8d90-7be559fbd694",
   "metadata": {},
   "outputs": [],
   "source": [
    "from sklearn.model_selection import train_test_split\n",
    "from sklearn.metrics import classification_report\n",
    "from sklearn.metrics import precision_recall_fscore_support, accuracy_score\n",
    "from sklearn.model_selection import KFold\n",
    "\n",
    "def cross_validate(dataset, folds):\n",
    "    '''\n",
    "    This function takes datset and perform N-fold cross validation and retruns\n",
    "    aggregated results in cv_results\n",
    "    \n",
    "    Parameter:\n",
    "        Takes dataset and fold as Input\n",
    "        eg: [], 10\n",
    "\n",
    "    Return:\n",
    "        Dictionary of classification metrics with arrgregated values\n",
    "    '''\n",
    "    results = []\n",
    "    fold_size = int(len(dataset) / folds)\n",
    "    # Split the data into features and labels\n",
    "    feature_tokens_for_classification = [data[0] for data in dataset]\n",
    "    labels_for_dataset = [data[1] for data in dataset]\n",
    " \n",
    "    # Use KFold to split the data into training and test sets for each fold\n",
    "    kfold = KFold(n_splits=folds, shuffle=False)\n",
    " \n",
    "    for train_pointers, test_pointers in kfold.split(feature_tokens_for_classification):\n",
    "        '''\n",
    "        Splitting the data into test and train for 10 - fold analysis\n",
    "        Then we are going to train teh classifier usign the train_classifier functijn\n",
    "        predict values and then evaluate the metrics\n",
    "        '''\n",
    "        xTrain, xTest = [feature_tokens_for_classification[i] for i in train_pointers], [feature_tokens_for_classification[i] for i in test_pointers]\n",
    "        yTrain, yTest = [labels_for_dataset[i] for i in train_pointers], [labels_for_dataset[i] for i in test_pointers]\n",
    " \n",
    "        # Training your clasifier here - :)\n",
    "        model_training = train_classifier(list(zip(xTrain, yTrain)))\n",
    " \n",
    "        # Lets predict the label for the test data\n",
    "        predicted_labels = predict_labels(xTest, model_training)\n",
    " \n",
    "        # Lets measure the classification metrics\n",
    "        precision, recall, f1_score, _ = precision_recall_fscore_support(\n",
    "            yTest, predicted_labels, average='weighted')\n",
    "        accuracy = accuracy_score(yTest, predicted_labels)\n",
    " \n",
    "        results.append({\n",
    "            'precision': precision,\n",
    "            'recall': recall,\n",
    "            'f1_score': f1_score,\n",
    "            'accuracy': accuracy\n",
    "        })\n",
    "\n",
    "    cv_results = {\n",
    "        'precision': sum(result['precision'] for result in results) / len(results),\n",
    "        'recall': sum(result['recall'] for result in results) / len(results),\n",
    "        'f1_score': sum(result['f1_score'] for result in results) / len(results),\n",
    "        'accuracy': sum(result['accuracy'] for result in results) / len(results),\n",
    "    }\n",
    "    return cv_results\n"
   ]
  },
  {
   "cell_type": "code",
   "execution_count": 375,
   "id": "ac6ee9a2-3858-4649-a1a2-55ac558cfc64",
   "metadata": {},
   "outputs": [],
   "source": [
    "# PREDICTING LABELS GIVEN A CLASSIFIER\n",
    "\n",
    "def predict_labels(samples, classifier):\n",
    "    \"\"\"Assuming preprocessed samples, return their predicted labels from the classifier model.\"\"\"\n",
    "    return classifier.classify_many(samples)\n",
    "\n",
    "def predict_label_from_raw(sample, classifier):\n",
    "    \"\"\"Assuming raw text, return its predicted label from the classifier model.\"\"\"\n",
    "    return classifier.classify(to_feature_vector(pre_process(samples)))\n",
    "\n",
    "def get_avg_count(dataset):\n",
    "    #styling\n",
    "    return sum([count for item, count in global_feature_dict.items()])/len(dataset)"
   ]
  },
  {
   "cell_type": "code",
   "execution_count": 376,
   "id": "3b75b969-9694-4a63-9ff6-5c909e45071a",
   "metadata": {},
   "outputs": [
    {
     "name": "stdout",
     "output_type": "stream",
     "text": [
      "Now 0 rawData, 0 trainData, 0 testData\n",
      "Preparing the dataset...\n",
      "Now 33540 rawData, 0 trainData, 0 testData\n",
      "Preparing training and test data...\n",
      "After split, 33540 rawData, 26832 trainData, 6708 testData\n",
      "Training Samples: \n",
      "26832\n",
      "Features: \n",
      "251654\n",
      "The average count of word in the sentance is 11 for the train data\n",
      "The average count of word in the sentance is 10 for the test data\n"
     ]
    }
   ],
   "source": [
    "# MAIN\n",
    "from sklearn.metrics import precision_score, recall_score, f1_score, accuracy_score\n",
    "\n",
    "# loading reviews\n",
    "# initialize global lists that will be appended to by the methods below\n",
    "raw_data = []          # the filtered data from the dataset file\n",
    "train_data = []        # the pre-processed training data as a percentage of the total dataset\n",
    "test_data = []         # the pre-processed test data as a percentage of the total dataset\n",
    "train_word_count = []\n",
    "test_word_count = []\n",
    "\n",
    "# references to the data files\n",
    "data_file_path = 'sentiment-dataset.tsv'\n",
    "\n",
    "# Do the actual stuff (i.e. call the functions we've made)\n",
    "# We parse the dataset and put it in a raw data list\n",
    "print(\"Now %d rawData, %d trainData, %d testData\" % (len(raw_data), len(train_data), len(test_data)),\n",
    "      \"Preparing the dataset...\",sep='\\n')\n",
    "\n",
    "load_data(data_file_path)\n",
    "\n",
    "# We split the raw dataset into a set of training data and a set of test data (80/20)\n",
    "# You do the cross validation on the 80% (training data)\n",
    "# We print the number of training samples and the number of features before the split\n",
    "print(\"Now %d rawData, %d trainData, %d testData\" % (len(raw_data), len(train_data), len(test_data)),\n",
    "      \"Preparing training and test data...\",sep='\\n')\n",
    "\n",
    "split_and_preprocess_data(0.8)\n",
    "\n",
    "# We print the number of training samples and the number of features after the split\n",
    "print(\"After split, %d rawData, %d trainData, %d testData\" % (len(raw_data), len(train_data), len(test_data)),\n",
    "      \"Training Samples: \", len(train_data), \"Features: \", len(global_feature_dict), sep='\\n')\n",
    "\n",
    "avg_train= int(sum(train_word_count)/len(train_word_count))\n",
    "avg_test= int(sum(test_word_count)/len(test_word_count))\n",
    "print(\"The average count of word in the sentance is {} for the train data\".format(avg_train))\n",
    "print(\"The average count of word in the sentance is {} for the test data\".format(avg_test))"
   ]
  },
  {
   "cell_type": "code",
   "execution_count": 377,
   "id": "f41e44f4-de73-4139-8331-49e90bdefbed",
   "metadata": {},
   "outputs": [
    {
     "name": "stdout",
     "output_type": "stream",
     "text": [
      "Training Classifier...\n"
     ]
    },
    {
     "name": "stderr",
     "output_type": "stream",
     "text": [
      "/opt/conda/lib/python3.10/site-packages/sklearn/svm/_classes.py:32: FutureWarning: The default value of `dual` will change from `True` to `'auto'` in 1.5. Set the value of `dual` explicitly to suppress the warning.\n",
      "  warnings.warn(\n"
     ]
    },
    {
     "name": "stdout",
     "output_type": "stream",
     "text": [
      "Training Classifier...\n"
     ]
    },
    {
     "name": "stderr",
     "output_type": "stream",
     "text": [
      "/opt/conda/lib/python3.10/site-packages/sklearn/svm/_classes.py:32: FutureWarning: The default value of `dual` will change from `True` to `'auto'` in 1.5. Set the value of `dual` explicitly to suppress the warning.\n",
      "  warnings.warn(\n"
     ]
    },
    {
     "name": "stdout",
     "output_type": "stream",
     "text": [
      "Training Classifier...\n"
     ]
    },
    {
     "name": "stderr",
     "output_type": "stream",
     "text": [
      "/opt/conda/lib/python3.10/site-packages/sklearn/svm/_classes.py:32: FutureWarning: The default value of `dual` will change from `True` to `'auto'` in 1.5. Set the value of `dual` explicitly to suppress the warning.\n",
      "  warnings.warn(\n"
     ]
    },
    {
     "name": "stdout",
     "output_type": "stream",
     "text": [
      "Training Classifier...\n"
     ]
    },
    {
     "name": "stderr",
     "output_type": "stream",
     "text": [
      "/opt/conda/lib/python3.10/site-packages/sklearn/svm/_classes.py:32: FutureWarning: The default value of `dual` will change from `True` to `'auto'` in 1.5. Set the value of `dual` explicitly to suppress the warning.\n",
      "  warnings.warn(\n"
     ]
    },
    {
     "name": "stdout",
     "output_type": "stream",
     "text": [
      "Training Classifier...\n"
     ]
    },
    {
     "name": "stderr",
     "output_type": "stream",
     "text": [
      "/opt/conda/lib/python3.10/site-packages/sklearn/svm/_classes.py:32: FutureWarning: The default value of `dual` will change from `True` to `'auto'` in 1.5. Set the value of `dual` explicitly to suppress the warning.\n",
      "  warnings.warn(\n"
     ]
    },
    {
     "name": "stdout",
     "output_type": "stream",
     "text": [
      "Training Classifier...\n"
     ]
    },
    {
     "name": "stderr",
     "output_type": "stream",
     "text": [
      "/opt/conda/lib/python3.10/site-packages/sklearn/svm/_classes.py:32: FutureWarning: The default value of `dual` will change from `True` to `'auto'` in 1.5. Set the value of `dual` explicitly to suppress the warning.\n",
      "  warnings.warn(\n"
     ]
    },
    {
     "name": "stdout",
     "output_type": "stream",
     "text": [
      "Training Classifier...\n"
     ]
    },
    {
     "name": "stderr",
     "output_type": "stream",
     "text": [
      "/opt/conda/lib/python3.10/site-packages/sklearn/svm/_classes.py:32: FutureWarning: The default value of `dual` will change from `True` to `'auto'` in 1.5. Set the value of `dual` explicitly to suppress the warning.\n",
      "  warnings.warn(\n"
     ]
    },
    {
     "name": "stdout",
     "output_type": "stream",
     "text": [
      "Training Classifier...\n"
     ]
    },
    {
     "name": "stderr",
     "output_type": "stream",
     "text": [
      "/opt/conda/lib/python3.10/site-packages/sklearn/svm/_classes.py:32: FutureWarning: The default value of `dual` will change from `True` to `'auto'` in 1.5. Set the value of `dual` explicitly to suppress the warning.\n",
      "  warnings.warn(\n"
     ]
    },
    {
     "name": "stdout",
     "output_type": "stream",
     "text": [
      "Training Classifier...\n"
     ]
    },
    {
     "name": "stderr",
     "output_type": "stream",
     "text": [
      "/opt/conda/lib/python3.10/site-packages/sklearn/svm/_classes.py:32: FutureWarning: The default value of `dual` will change from `True` to `'auto'` in 1.5. Set the value of `dual` explicitly to suppress the warning.\n",
      "  warnings.warn(\n"
     ]
    },
    {
     "name": "stdout",
     "output_type": "stream",
     "text": [
      "Training Classifier...\n"
     ]
    },
    {
     "name": "stderr",
     "output_type": "stream",
     "text": [
      "/opt/conda/lib/python3.10/site-packages/sklearn/svm/_classes.py:32: FutureWarning: The default value of `dual` will change from `True` to `'auto'` in 1.5. Set the value of `dual` explicitly to suppress the warning.\n",
      "  warnings.warn(\n"
     ]
    },
    {
     "data": {
      "text/plain": [
       "{'precision': 0.8527711341492573,\n",
       " 'recall': 0.8546509373751942,\n",
       " 'f1_score': 0.8521183671878161,\n",
       " 'accuracy': 0.8546509373751942}"
      ]
     },
     "execution_count": 377,
     "metadata": {},
     "output_type": "execute_result"
    }
   ],
   "source": [
    "cross_validate(train_data, 10) # will work and output overall performance of p, r, f-score when cv implemented"
   ]
  },
  {
   "cell_type": "code",
   "execution_count": 378,
   "id": "d28dec48-a906-4d37-9453-4100f1d18f8b",
   "metadata": {},
   "outputs": [
    {
     "name": "stdout",
     "output_type": "stream",
     "text": [
      "Training Classifier...\n"
     ]
    },
    {
     "name": "stderr",
     "output_type": "stream",
     "text": [
      "/opt/conda/lib/python3.10/site-packages/sklearn/svm/_classes.py:32: FutureWarning: The default value of `dual` will change from `True` to `'auto'` in 1.5. Set the value of `dual` explicitly to suppress the warning.\n",
      "  warnings.warn(\n"
     ]
    },
    {
     "data": {
      "image/png": "[encoded data removed]",
      "text/plain": [
       "<Figure size 1000x1000 with 2 Axes>"
      ]
     },
     "metadata": {},
     "output_type": "display_data"
    },
    {
     "name": "stdout",
     "output_type": "stream",
     "text": [
      "2684\n",
      "2684\n",
      "2684\n"
     ]
    }
   ],
   "source": [
    "from sklearn import metrics\n",
    "import matplotlib.pyplot as plt\n",
    "# a function to make the confusion matrix readable and pretty\n",
    "def confusion_matrix_heatmap(y_test, preds, labels):\n",
    "    \"\"\"Function to plot a confusion matrix\"\"\"\n",
    "    # pass labels to the confusion matrix function to ensure right order\n",
    "    # cm = metrics.confusion_matrix(y_test, preds, labels)\n",
    "    cm = metrics.confusion_matrix(y_test, preds, labels=labels)\n",
    "    fig = plt.figure(figsize=(10,10))\n",
    "    ax = fig.add_subplot(111)\n",
    "    cax = ax.matshow(cm)\n",
    "    plt.title('Confusion matrix of the classifier')\n",
    "    fig.colorbar(cax)\n",
    "    ax.set_xticks(np.arange(len(labels)))\n",
    "    ax.set_yticks(np.arange(len(labels)))\n",
    "    ax.set_xticklabels( labels, rotation=45)\n",
    "    ax.set_yticklabels( labels)\n",
    "\n",
    "    for i in range(len(cm)):\n",
    "        for j in range(len(cm)):\n",
    "            text = ax.text(j, i, cm[i, j],\n",
    "                           ha=\"center\", va=\"center\", color=\"w\")\n",
    "\n",
    "    plt.xlabel('Predicted')\n",
    "    plt.ylabel('True')\n",
    "\n",
    "    # fix for mpl bug that cuts off top/bottom of seaborn viz:\n",
    "    b, t = plt.ylim() # discover the values for bottom and top\n",
    "    b += 0.5 # Add 0.5 to the bottom\n",
    "    t -= 0.5 # Subtract 0.5 from the top\n",
    "    plt.ylim(b, t) # update the ylim(bottom, top) values\n",
    "    plt.show() # ta-da!\n",
    "    plt.show()\n",
    "\n",
    "\n",
    "# Split the dataset into training and testing sets\n",
    "test_data = train_data[ 0:2684]\n",
    "train_data = train_data[:0] + train_data[2684:]\n",
    "\n",
    "# print(\"Fold start on items %d - %d\" % (i, i+fold_size))\n",
    "# FILL IN THE METHOD HERE\n",
    "\n",
    "# Extract features (X) and labels (y) from the training and testing sets\n",
    "\n",
    "X_train = [text for text, label in train_data]\n",
    "y_train = [label for text, label in train_data]\n",
    "X_test = [text for text, label in test_data]\n",
    "y_test = [label for text, label in test_data]\n",
    "\n",
    "# Train the classifier\n",
    "\n",
    "classifier = train_classifier(list(zip(X_train, y_train)))\n",
    "\n",
    "# Predict labels for the test set\n",
    "\n",
    "y_pred = [classifier.classify(text) for text in X_test]\n",
    "\n",
    "# Evaluate performance metrics\n",
    "\n",
    "precision = precision_score(y_test, y_pred, average='weighted')\n",
    "recall = recall_score(y_test, y_pred, average='weighted')\n",
    "f1 = f1_score(y_test, y_pred, average='weighted')\n",
    "accuracy = accuracy_score(y_test, y_pred)\n",
    "\n",
    "\n",
    "confusion_matrix_heatmap(y_test, y_pred, labels=['positive', 'negative'])\n",
    "\n",
    "print(len(X_test))\n",
    "print(len(y_test))\n",
    "print(len(y_pred))\n",
    "\n",
    "\n",
    "#False Positive and False Negative \n",
    "\n",
    "rows_of_csv = []\n",
    "for text, label, pred_label in zip(X_test, y_test, y_pred):\n",
    "    if pred_label == label: # correct/TP, ignore these\n",
    "        continue\n",
    "\n",
    "    rows_of_csv.append([label, pred_label, text])\n",
    "\n",
    "with open(\"Sentiment_FN_FP.csv\", mode='w', newline='') as file:\n",
    "    write = csv.writer(file)\n",
    "\n",
    "    for row in rows_of_csv:\n",
    "        write.writerow(row)\n",
    "\n",
    "\n"
   ]
  },
  {
   "cell_type": "code",
   "execution_count": 379,
   "id": "feccabe2-1526-44dc-87dc-35c927ea4b67",
   "metadata": {},
   "outputs": [
    {
     "name": "stdout",
     "output_type": "stream",
     "text": [
      "({'concert': 1, 'concert october': 1, 'excited': 1, 'going': 1, 'going sam': 1, 'literally': 1, 'literally excited': 1, 'october': 1, 'sam': 1, 'sam smith': 1, 'smith': 1, 'smith concert': 1}, 'positive')\n",
      "Training Classifier...\n"
     ]
    },
    {
     "name": "stderr",
     "output_type": "stream",
     "text": [
      "/opt/conda/lib/python3.10/site-packages/sklearn/svm/_classes.py:32: FutureWarning: The default value of `dual` will change from `True` to `'auto'` in 1.5. Set the value of `dual` explicitly to suppress the warning.\n",
      "  warnings.warn(\n"
     ]
    },
    {
     "name": "stdout",
     "output_type": "stream",
     "text": [
      "Done training!\n",
      "Precision: 0.856021\n",
      "Recall: 0.858420\n",
      "F Score:0.854218\n"
     ]
    }
   ],
   "source": [
    "# Finally, check the accuracy of your classifier by training on all the traning data\n",
    "# and testing on the test set\n",
    "# Will only work once all functions are complete\n",
    "functions_complete = True  # set to True once you're happy with your methods for cross val\n",
    "if functions_complete:\n",
    "    print(test_data[0])   # have a look at the first test data instance\n",
    "    classifier = train_classifier(train_data)  # train the classifier\n",
    "    test_true = [t[1] for t in test_data]   # get the ground-truth labels from the data\n",
    "    test_pred = predict_labels([x[0] for x in test_data], classifier)  # classify the test data to get predicted labels\n",
    "    final_scores = precision_recall_fscore_support(test_true, test_pred, average='weighted') # evaluate\n",
    "    print(\"Done training!\")\n",
    "    print(\"Precision: %f\\nRecall: %f\\nF Score:%f\" % final_scores[:3])\n",
    "\n",
    "   "
   ]
  },
  {
   "cell_type": "code",
   "execution_count": null,
   "id": "a79e3a2f-e0c4-41d5-90ef-d8dcf9fce4ed",
   "metadata": {},
   "outputs": [],
   "source": []
  }
 ],
 "metadata": {
  "kernelspec": {
   "display_name": "Python 3 (ipykernel)",
   "language": "python",
   "name": "python3"
  },
  "language_info": {
   "codemirror_mode": {
    "name": "ipython",
    "version": 3
   },
   "file_extension": ".py",
   "mimetype": "text/x-python",
   "name": "python",
   "nbconvert_exporter": "python",
   "pygments_lexer": "ipython3",
   "version": "3.11.7"
  }
 },
 "nbformat": 4,
 "nbformat_minor": 5
}
